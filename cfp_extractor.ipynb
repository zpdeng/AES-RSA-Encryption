{
  "nbformat": 4,
  "nbformat_minor": 0,
  "metadata": {
    "colab": {
      "name": "cfp_extractor.ipynb",
      "provenance": [],
      "collapsed_sections": [],
      "authorship_tag": "ABX9TyM/6PiloMoElBmKEyNfOKvR",
      "include_colab_link": true
    },
    "kernelspec": {
      "name": "python3",
      "display_name": "Python 3"
    }
  },
  "cells": [
    {
      "cell_type": "markdown",
      "metadata": {
        "id": "view-in-github",
        "colab_type": "text"
      },
      "source": [
        "<a href=\"https://colab.research.google.com/github/zpdeng/AES-RSA-Encryption/blob/master/cfp_extractor.ipynb\" target=\"_parent\"><img src=\"https://colab.research.google.com/assets/colab-badge.svg\" alt=\"Open In Colab\"/></a>"
      ]
    },
    {
      "cell_type": "code",
      "metadata": {
        "id": "JC3gSVIldaQD",
        "colab_type": "code",
        "colab": {
          "base_uri": "https://localhost:8080/",
          "height": 98
        },
        "outputId": "9613036f-bf91-419f-bb4c-1aa13a6a84af"
      },
      "source": [
        "import requests\n",
        "import time, json \n",
        "from bs4 import BeautifulSoup\n",
        "import nltk \n",
        "import os\n",
        "\n",
        "nltk.download(\"punkt\")\n",
        "nltk.download('averaged_perceptron_tagger')\n",
        "\n",
        "from nltk import pos_tag, word_tokenize,sent_tokenize"
      ],
      "execution_count": 1,
      "outputs": [
        {
          "output_type": "stream",
          "text": [
            "[nltk_data] Downloading package punkt to /root/nltk_data...\n",
            "[nltk_data]   Unzipping tokenizers/punkt.zip.\n",
            "[nltk_data] Downloading package averaged_perceptron_tagger to\n",
            "[nltk_data]     /root/nltk_data...\n",
            "[nltk_data]   Unzipping taggers/averaged_perceptron_tagger.zip.\n"
          ],
          "name": "stdout"
        }
      ]
    },
    {
      "cell_type": "code",
      "metadata": {
        "id": "S3WuLEhLddpK",
        "colab_type": "code",
        "colab": {}
      },
      "source": [
        "\n",
        "\n",
        "def cfp_extract(entry_url): #entry url is \"/CFP/26108\", \"/CFP/26129\", etc. \n",
        "    rawText = \"\"\n",
        "    \n",
        "    cfp_entry_dict = {}\n",
        "\n",
        "    entry_html = \"https://www.cfplist.com{}\".format(entry_url)\n",
        "    entry_response = requests.get(entry_html)\n",
        "\n",
        "    entry_soup = BeautifulSoup(entry_response.content, \"html.parser\")\n",
        "    content = entry_soup.find(\"div\", {\"class\" : \"entry\"})\n",
        "\n",
        "    #Title \n",
        "    title_block = content.find_all(\"a\", {\"class\" : \"titleLink\"})\n",
        "    title = title_block[0].text\n",
        "\n",
        "    cfp_entry_dict['title'] = title\n",
        "\n",
        "    #Location \n",
        "    location_block = content.find_all(\"h5\", {\"class\" : \"text-muted\"})\n",
        "\n",
        "    if len(location_block) == 0: #Tag not found, none \n",
        "        location = \"NA\"\n",
        "    else:\n",
        "        location = (location_block[0].text)\n",
        "    \n",
        "    cfp_entry_dict['location'] = location\n",
        "\n",
        "    #Organization, contains info about location as well \n",
        "\n",
        "    organization_block = content.find_all(\"h6\", {\"class\" : \"text-muted\"})\n",
        "\n",
        "    if len(organization_block) == 0: #Tag not found, none \n",
        "        organization = \"NA\"\n",
        "    else:\n",
        "        organization = (organization_block[0].text)\n",
        "\n",
        "    cfp_entry_dict['organization'] = organization\n",
        "\n",
        "    #Conference Date \n",
        "\n",
        "    conference_date_block = content.find_all(\"span\", {\"class\" : \"badge badge-primary eventBox\"})\n",
        "\n",
        "    if len(conference_date_block) == 0: #Tag not found, none \n",
        "        conference_date = \"NA\"\n",
        "    else:\n",
        "        conference_date = (conference_date_block[0].text.strip())\n",
        "\n",
        "    cfp_entry_dict['conference_date'] = conference_date\n",
        "    #Submission Deadline \n",
        "\n",
        "    submission_date_block = content.find_all(\"span\", {\"class\" : \"badge badge-primary deadlineBox\"})\n",
        "\n",
        "    if len(submission_date_block) == 0: #Tag not found, none \n",
        "        submission_date = \"NA\"\n",
        "    else:\n",
        "        submission_date = (submission_date_block[0].text.strip())\n",
        "\n",
        "    cfp_entry_dict['submission_date'] = submission_date\n",
        "\n",
        "    #Description info\n",
        "    description = \"\"\n",
        "\n",
        "    description_block = content.find_all(\"p\")\n",
        "\n",
        "    for text in description_block[1:-1]:\n",
        "        description += text.text + \"\\n\"\n",
        "\n",
        "    cfp_entry_dict['description'] = description\n",
        "\n",
        "    #Append every info \n",
        "    rawText += title + \"\\n\" + location + \"\\n\" + organization + \"\\n\" + conference_date + \"\\n\" + submission_date + \"\\n\" + description + \"\\n\"\n",
        "\n",
        "    #Add cfp_dict to cfp_json\n",
        "    cfp_json.append(cfp_entry_dict)\n",
        "\n",
        "    return rawText"
      ],
      "execution_count": 0,
      "outputs": []
    },
    {
      "cell_type": "code",
      "metadata": {
        "id": "QX_LXfAjdpkW",
        "colab_type": "code",
        "colab": {
          "base_uri": "https://localhost:8080/",
          "height": 326
        },
        "outputId": "f698d199-bc28-4f83-d4d8-bab3d246bc46"
      },
      "source": [
        "cfp_data = []\n",
        "cfp_json = []\n",
        "\n",
        "for x in range(1,20):\n",
        "    url = \"https://www.cfplist.com/_CFPList?category=&page={}&query=&sortBy=CID#\".format(x)\n",
        "    print(url)\n",
        "    response = requests.get(url)\n",
        "    #print(response)\n",
        "    soup = BeautifulSoup(response.content, \"html.parser\")\n",
        "\n",
        "    entry_hrefs = soup.find_all(\"a\", {\"class\" : \"titleLink\"})\n",
        "\n",
        "    #print(entry_hrefs)\n",
        "    for entry in entry_hrefs:\n",
        "        href = entry['href']\n",
        "        #print(href)\n",
        "        rawText = cfp_extract(href)\n",
        "    \n",
        "        cfp_data.append(rawText)\n"
      ],
      "execution_count": 4,
      "outputs": [
        {
          "output_type": "stream",
          "text": [
            "https://www.cfplist.com/_CFPList?category=&page=1&query=&sortBy=CID#\n",
            "https://www.cfplist.com/_CFPList?category=&page=2&query=&sortBy=CID#\n",
            "https://www.cfplist.com/_CFPList?category=&page=3&query=&sortBy=CID#\n",
            "https://www.cfplist.com/_CFPList?category=&page=4&query=&sortBy=CID#\n",
            "https://www.cfplist.com/_CFPList?category=&page=5&query=&sortBy=CID#\n",
            "https://www.cfplist.com/_CFPList?category=&page=6&query=&sortBy=CID#\n",
            "https://www.cfplist.com/_CFPList?category=&page=7&query=&sortBy=CID#\n",
            "https://www.cfplist.com/_CFPList?category=&page=8&query=&sortBy=CID#\n",
            "https://www.cfplist.com/_CFPList?category=&page=9&query=&sortBy=CID#\n",
            "https://www.cfplist.com/_CFPList?category=&page=10&query=&sortBy=CID#\n",
            "https://www.cfplist.com/_CFPList?category=&page=11&query=&sortBy=CID#\n",
            "https://www.cfplist.com/_CFPList?category=&page=12&query=&sortBy=CID#\n",
            "https://www.cfplist.com/_CFPList?category=&page=13&query=&sortBy=CID#\n",
            "https://www.cfplist.com/_CFPList?category=&page=14&query=&sortBy=CID#\n",
            "https://www.cfplist.com/_CFPList?category=&page=15&query=&sortBy=CID#\n",
            "https://www.cfplist.com/_CFPList?category=&page=16&query=&sortBy=CID#\n",
            "https://www.cfplist.com/_CFPList?category=&page=17&query=&sortBy=CID#\n",
            "https://www.cfplist.com/_CFPList?category=&page=18&query=&sortBy=CID#\n",
            "https://www.cfplist.com/_CFPList?category=&page=19&query=&sortBy=CID#\n"
          ],
          "name": "stdout"
        }
      ]
    },
    {
      "cell_type": "code",
      "metadata": {
        "id": "JtHHfekcfV78",
        "colab_type": "code",
        "colab": {
          "base_uri": "https://localhost:8080/",
          "height": 50
        },
        "outputId": "70e2b953-80be-43d5-d8ef-5df09697b62d"
      },
      "source": [
        "print(len(cfp_data))\n",
        "print(len(cfp_json))"
      ],
      "execution_count": 5,
      "outputs": [
        {
          "output_type": "stream",
          "text": [
            "475\n",
            "475\n"
          ],
          "name": "stdout"
        }
      ]
    },
    {
      "cell_type": "code",
      "metadata": {
        "id": "0TsHyHlwdyW6",
        "colab_type": "code",
        "colab": {}
      },
      "source": [
        "cfp_json_obj = json.dumps(cfp_json)\n",
        "with open(\"cfp_events.json\", \"w\") as outfile: \n",
        "    outfile.write(cfp_json_obj) "
      ],
      "execution_count": 0,
      "outputs": []
    },
    {
      "cell_type": "code",
      "metadata": {
        "id": "oZT_7iDPfZoj",
        "colab_type": "code",
        "colab": {}
      },
      "source": [
        ""
      ],
      "execution_count": 0,
      "outputs": []
    }
  ]
}